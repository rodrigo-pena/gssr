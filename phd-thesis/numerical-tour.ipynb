{
 "cells": [
  {
   "cell_type": "markdown",
   "metadata": {},
   "source": [
    "# A Numerical Tour"
   ]
  },
  {
   "cell_type": "markdown",
   "metadata": {},
   "source": [
    "### Note on using the Utopia font\n",
    "\n",
    "Ideally, you should install the font files in `/utopia-font` to your computer, then delete the `fontlist` files under `~/.matplotlib/` and relaunch Jupyter Lab. The font manager of `matplotlib` should now be able to find the Utopia `.otf` files and the code below should work without any problem. If, however, you still receive an error of the type `matplotlib font ['Utopia'] not found`, then you can simply comment out the line \n",
    "\n",
    "```\n",
    "rcParams['font.family'] = 'Utopia' \n",
    "```\n",
    "\n",
    "The downside is that the font family in the plots will no longer match the one in the thesis."
   ]
  },
  {
   "cell_type": "markdown",
   "metadata": {},
   "source": [
    "The next cell makes sure that the parent directory is on the Python path, so we can import its scripts as Python modules"
   ]
  },
  {
   "cell_type": "code",
   "execution_count": 5,
   "metadata": {},
   "outputs": [],
   "source": [
    "import os, sys\n",
    "cmd_folder = os.path.realpath(os.path.abspath(os.path.join(os.getcwd(), os.pardir)))\n",
    "if cmd_folder not in sys.path:\n",
    "    sys.path.insert(0, cmd_folder)"
   ]
  },
  {
   "cell_type": "code",
   "execution_count": 8,
   "metadata": {},
   "outputs": [],
   "source": [
    "import plotting\n",
    "import utils\n",
    "\n",
    "import matplotlib as mpl\n",
    "import matplotlib.pyplot as plt\n",
    "\n",
    "from matplotlib import rcParams\n",
    "\n",
    "%matplotlib inline\n",
    "plt.style.use('notebook')\n",
    "\n",
    "# Comment this next line if you do not care about using the same font family as in the thesis\n",
    "rcParams['font.family'] = 'Utopia' "
   ]
  },
  {
   "cell_type": "code",
   "execution_count": 13,
   "metadata": {},
   "outputs": [
    {
     "data": {
      "image/png": "[encoded data removed]",
      "text/plain": [
       "<Figure size 576x576 with 2 Axes>"
      ]
     },
     "metadata": {
      "needs_background": "light"
     },
     "output_type": "display_data"
    }
   ],
   "source": [
    "experiment = utils.load_obj(cmd_folder + \"/phd-thesis/data/2019-06-03 20:26:44 pt ssbm k=2 uniform tv.pkl\")\n",
    "plotting.pt_grid(experiment['grid'], vmin=0, vmax=1)\n",
    "plt.show()"
   ]
  },
  {
   "cell_type": "code",
   "execution_count": null,
   "metadata": {},
   "outputs": [],
   "source": []
  }
 ],
 "metadata": {
  "kernelspec": {
   "display_name": "Python 3",
   "language": "python",
   "name": "python3"
  },
  "language_info": {
   "codemirror_mode": {
    "name": "ipython",
    "version": 3
   },
   "file_extension": ".py",
   "mimetype": "text/x-python",
   "name": "python",
   "nbconvert_exporter": "python",
   "pygments_lexer": "ipython3",
   "version": "3.6.7"
  }
 },
 "nbformat": 4,
 "nbformat_minor": 2
}
